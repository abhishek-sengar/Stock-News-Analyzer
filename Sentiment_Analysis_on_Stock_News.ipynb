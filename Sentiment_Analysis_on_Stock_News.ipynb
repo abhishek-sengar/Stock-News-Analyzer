{
 "cells": [
  {
   "cell_type": "markdown",
   "id": "647dd091",
   "metadata": {},
   "source": [
    "# Install Dependencies"
   ]
  },
  {
   "cell_type": "code",
   "execution_count": 40,
   "id": "9efd13cc",
   "metadata": {
    "scrolled": false
   },
   "outputs": [],
   "source": [
    "# pip install bs4"
   ]
  },
  {
   "cell_type": "code",
   "execution_count": 41,
   "id": "ec5b2d4a",
   "metadata": {},
   "outputs": [],
   "source": [
    "# pip install torch torchvision torchaudio"
   ]
  },
  {
   "cell_type": "code",
   "execution_count": 42,
   "id": "98f41a4d",
   "metadata": {},
   "outputs": [],
   "source": [
    "# pip install transformers"
   ]
  },
  {
   "cell_type": "code",
   "execution_count": 43,
   "id": "3bc5d35d",
   "metadata": {},
   "outputs": [],
   "source": [
    "from urllib.request import urlopen, Request\n",
    "from bs4 import BeautifulSoup\n",
    "import torch\n",
    "from transformers import AutoTokenizer, AutoModelForSequenceClassification\n"
   ]
  },
  {
   "cell_type": "markdown",
   "id": "c2813d30",
   "metadata": {},
   "source": [
    "# Create Model"
   ]
  },
  {
   "cell_type": "code",
   "execution_count": 44,
   "id": "9ce2b9fd",
   "metadata": {},
   "outputs": [],
   "source": [
    "tokenizer = AutoTokenizer.from_pretrained('nlptown/bert-base-multilingual-uncased-sentiment')"
   ]
  },
  {
   "cell_type": "code",
   "execution_count": 45,
   "id": "4ae9eefd",
   "metadata": {
    "scrolled": true
   },
   "outputs": [],
   "source": [
    "model = AutoModelForSequenceClassification.from_pretrained('nlptown/bert-base-multilingual-uncased-sentiment')"
   ]
  },
  {
   "cell_type": "code",
   "execution_count": 46,
   "id": "c3458afb",
   "metadata": {},
   "outputs": [
    {
     "data": {
      "text/plain": [
       "tensor([[-2.5497, -2.9072, -1.4034,  1.4186,  4.3728]],\n",
       "       grad_fn=<AddmmBackward0>)"
      ]
     },
     "execution_count": 46,
     "metadata": {},
     "output_type": "execute_result"
    }
   ],
   "source": [
    "tokens = tokenizer.encode('This is amazing, I loved it. Great!', return_tensors='pt')\n",
    "result = model(tokens)\n",
    "result.logits"
   ]
  },
  {
   "cell_type": "code",
   "execution_count": 47,
   "id": "8143c98b",
   "metadata": {},
   "outputs": [
    {
     "data": {
      "text/plain": [
       "5"
      ]
     },
     "execution_count": 47,
     "metadata": {},
     "output_type": "execute_result"
    }
   ],
   "source": [
    "int(torch.argmax(result.logits))+1"
   ]
  },
  {
   "cell_type": "markdown",
   "id": "9700b58a",
   "metadata": {},
   "source": [
    "# Collect Reviews"
   ]
  },
  {
   "cell_type": "code",
   "execution_count": 48,
   "id": "438916fd",
   "metadata": {},
   "outputs": [],
   "source": [
    "finviz_url = 'https://finviz.com/quote.ashx?t='"
   ]
  },
  {
   "cell_type": "code",
   "execution_count": 49,
   "id": "70ad289b",
   "metadata": {},
   "outputs": [],
   "source": [
    "tickers = ['AMZN','FBCG','AMD']"
   ]
  },
  {
   "cell_type": "code",
   "execution_count": 50,
   "id": "2e03c680",
   "metadata": {},
   "outputs": [],
   "source": [
    "news_tables = {}"
   ]
  },
  {
   "cell_type": "code",
   "execution_count": 51,
   "id": "b88e30a9",
   "metadata": {},
   "outputs": [],
   "source": [
    "for ticker in tickers:\n",
    "    url = finviz_url + ticker\n",
    "    \n",
    "    req = Request(url=url,headers={'user-agent': 'my-app'})\n",
    "    response = urlopen(req)\n",
    "    html = BeautifulSoup(response, 'html')\n",
    "    news_table = html.find(id='news-table')\n",
    "    news_tables[ticker] = news_table\n",
    "#     break"
   ]
  },
  {
   "cell_type": "code",
   "execution_count": 52,
   "id": "1387d0cb",
   "metadata": {},
   "outputs": [],
   "source": [
    "# print(news_tables)"
   ]
  },
  {
   "cell_type": "code",
   "execution_count": 53,
   "id": "54ab704f",
   "metadata": {},
   "outputs": [],
   "source": [
    "parsed_data = []"
   ]
  },
  {
   "cell_type": "code",
   "execution_count": 54,
   "id": "89fcfd15",
   "metadata": {},
   "outputs": [],
   "source": [
    "for ticker, news_table in news_tables.items():\n",
    "    for row in news_table.findAll('tr'):\n",
    "        title = row.a.text\n",
    "        date_data = row.td.text.strip().split(' ')\n",
    "        \n",
    "        if len(date_data) == 1:\n",
    "            time = date_data[0]\n",
    "        else:\n",
    "            date = date_data[0]\n",
    "            time = date_data[1]\n",
    "            \n",
    "        parsed_data.append([ticker,date,time,title])"
   ]
  },
  {
   "cell_type": "code",
   "execution_count": null,
   "id": "3a6566f2",
   "metadata": {},
   "outputs": [],
   "source": []
  },
  {
   "cell_type": "code",
   "execution_count": 56,
   "id": "0d1df9bc",
   "metadata": {},
   "outputs": [],
   "source": [
    "import numpy as np\n",
    "import pandas as pd"
   ]
  },
  {
   "cell_type": "code",
   "execution_count": 57,
   "id": "a90ef285",
   "metadata": {},
   "outputs": [],
   "source": [
    "df = pd.DataFrame(np.array(parsed_data),columns=['Tickers','Date','Time','News'])"
   ]
  },
  {
   "cell_type": "code",
   "execution_count": 58,
   "id": "cee5ba7f",
   "metadata": {},
   "outputs": [
    {
     "data": {
      "text/html": [
       "<div>\n",
       "<style scoped>\n",
       "    .dataframe tbody tr th:only-of-type {\n",
       "        vertical-align: middle;\n",
       "    }\n",
       "\n",
       "    .dataframe tbody tr th {\n",
       "        vertical-align: top;\n",
       "    }\n",
       "\n",
       "    .dataframe thead th {\n",
       "        text-align: right;\n",
       "    }\n",
       "</style>\n",
       "<table border=\"1\" class=\"dataframe\">\n",
       "  <thead>\n",
       "    <tr style=\"text-align: right;\">\n",
       "      <th></th>\n",
       "      <th>Tickers</th>\n",
       "      <th>Date</th>\n",
       "      <th>Time</th>\n",
       "      <th>News</th>\n",
       "    </tr>\n",
       "  </thead>\n",
       "  <tbody>\n",
       "    <tr>\n",
       "      <th>0</th>\n",
       "      <td>AMZN</td>\n",
       "      <td>Aug-12-23</td>\n",
       "      <td>12:05PM</td>\n",
       "      <td>Lina Khan: The most feared person in Big Tech ...</td>\n",
       "    </tr>\n",
       "    <tr>\n",
       "      <th>1</th>\n",
       "      <td>AMZN</td>\n",
       "      <td>Aug-12-23</td>\n",
       "      <td>12:04PM</td>\n",
       "      <td>Lina Khan: The most feared person in Silicon V...</td>\n",
       "    </tr>\n",
       "    <tr>\n",
       "      <th>2</th>\n",
       "      <td>AMZN</td>\n",
       "      <td>Aug-12-23</td>\n",
       "      <td>11:59AM</td>\n",
       "      <td>The most feared person in tech isnt in Silicon...</td>\n",
       "    </tr>\n",
       "    <tr>\n",
       "      <th>3</th>\n",
       "      <td>AMZN</td>\n",
       "      <td>Aug-12-23</td>\n",
       "      <td>10:15AM</td>\n",
       "      <td>Is Amazon a Buy After Its Blowout Quarter?</td>\n",
       "    </tr>\n",
       "    <tr>\n",
       "      <th>4</th>\n",
       "      <td>AMZN</td>\n",
       "      <td>Aug-12-23</td>\n",
       "      <td>08:00AM</td>\n",
       "      <td>3 Warren Buffett Stocks to Buy Hand Over Fist ...</td>\n",
       "    </tr>\n",
       "  </tbody>\n",
       "</table>\n",
       "</div>"
      ],
      "text/plain": [
       "  Tickers       Date     Time  \\\n",
       "0    AMZN  Aug-12-23  12:05PM   \n",
       "1    AMZN  Aug-12-23  12:04PM   \n",
       "2    AMZN  Aug-12-23  11:59AM   \n",
       "3    AMZN  Aug-12-23  10:15AM   \n",
       "4    AMZN  Aug-12-23  08:00AM   \n",
       "\n",
       "                                                News  \n",
       "0  Lina Khan: The most feared person in Big Tech ...  \n",
       "1  Lina Khan: The most feared person in Silicon V...  \n",
       "2  The most feared person in tech isnt in Silicon...  \n",
       "3         Is Amazon a Buy After Its Blowout Quarter?  \n",
       "4  3 Warren Buffett Stocks to Buy Hand Over Fist ...  "
      ]
     },
     "execution_count": 58,
     "metadata": {},
     "output_type": "execute_result"
    }
   ],
   "source": [
    "df.head()"
   ]
  },
  {
   "cell_type": "code",
   "execution_count": 59,
   "id": "e594dec5",
   "metadata": {},
   "outputs": [
    {
     "data": {
      "text/html": [
       "<div>\n",
       "<style scoped>\n",
       "    .dataframe tbody tr th:only-of-type {\n",
       "        vertical-align: middle;\n",
       "    }\n",
       "\n",
       "    .dataframe tbody tr th {\n",
       "        vertical-align: top;\n",
       "    }\n",
       "\n",
       "    .dataframe thead th {\n",
       "        text-align: right;\n",
       "    }\n",
       "</style>\n",
       "<table border=\"1\" class=\"dataframe\">\n",
       "  <thead>\n",
       "    <tr style=\"text-align: right;\">\n",
       "      <th></th>\n",
       "      <th>Tickers</th>\n",
       "      <th>Date</th>\n",
       "      <th>Time</th>\n",
       "      <th>News</th>\n",
       "    </tr>\n",
       "  </thead>\n",
       "  <tbody>\n",
       "    <tr>\n",
       "      <th>200</th>\n",
       "      <td>AMD</td>\n",
       "      <td>Jul-31-23</td>\n",
       "      <td>05:57PM</td>\n",
       "      <td>Advanced Micro Devices Q2 Preview: Time to Buy?</td>\n",
       "    </tr>\n",
       "    <tr>\n",
       "      <th>201</th>\n",
       "      <td>AMD</td>\n",
       "      <td>Jul-31-23</td>\n",
       "      <td>05:42PM</td>\n",
       "      <td>AMD, JetBlue, Starbucks earnings, manufacturin...</td>\n",
       "    </tr>\n",
       "    <tr>\n",
       "      <th>202</th>\n",
       "      <td>AMD</td>\n",
       "      <td>Jul-31-23</td>\n",
       "      <td>03:26PM</td>\n",
       "      <td>Dow futures flat, Zoom dips 17.1% after earnings</td>\n",
       "    </tr>\n",
       "    <tr>\n",
       "      <th>203</th>\n",
       "      <td>AMD</td>\n",
       "      <td>Jul-31-23</td>\n",
       "      <td>02:00PM</td>\n",
       "      <td>Jim Cramers 10 S&amp;P 500 Stock Picks for 2023</td>\n",
       "    </tr>\n",
       "    <tr>\n",
       "      <th>204</th>\n",
       "      <td>AMD</td>\n",
       "      <td>Jul-31-23</td>\n",
       "      <td>01:22PM</td>\n",
       "      <td>25 Richest Women in the World</td>\n",
       "    </tr>\n",
       "  </tbody>\n",
       "</table>\n",
       "</div>"
      ],
      "text/plain": [
       "    Tickers       Date     Time  \\\n",
       "200     AMD  Jul-31-23  05:57PM   \n",
       "201     AMD  Jul-31-23  05:42PM   \n",
       "202     AMD  Jul-31-23  03:26PM   \n",
       "203     AMD  Jul-31-23  02:00PM   \n",
       "204     AMD  Jul-31-23  01:22PM   \n",
       "\n",
       "                                                  News  \n",
       "200    Advanced Micro Devices Q2 Preview: Time to Buy?  \n",
       "201  AMD, JetBlue, Starbucks earnings, manufacturin...  \n",
       "202   Dow futures flat, Zoom dips 17.1% after earnings  \n",
       "203        Jim Cramers 10 S&P 500 Stock Picks for 2023  \n",
       "204                      25 Richest Women in the World  "
      ]
     },
     "execution_count": 59,
     "metadata": {},
     "output_type": "execute_result"
    }
   ],
   "source": [
    "df.tail()"
   ]
  },
  {
   "cell_type": "code",
   "execution_count": 60,
   "id": "d22e92fe",
   "metadata": {},
   "outputs": [
    {
     "data": {
      "text/plain": [
       "'Lina Khan: The most feared person in Big Tech is a 34-year-old in DC'"
      ]
     },
     "execution_count": 60,
     "metadata": {},
     "output_type": "execute_result"
    }
   ],
   "source": [
    "df.iloc[0][3]"
   ]
  },
  {
   "cell_type": "code",
   "execution_count": 61,
   "id": "c355e0d3",
   "metadata": {},
   "outputs": [],
   "source": [
    "def sentiment_score(news):\n",
    "    tokens = tokenizer.encode(news, return_tensors='pt')\n",
    "    result = model(tokens)\n",
    "    return int(torch.argmax(result.logits))+1"
   ]
  },
  {
   "cell_type": "code",
   "execution_count": 62,
   "id": "763060eb",
   "metadata": {},
   "outputs": [],
   "source": [
    "df['Impact'] = df['News'].apply(lambda x: sentiment_score(x[:512]))"
   ]
  },
  {
   "cell_type": "code",
   "execution_count": 63,
   "id": "bd053804",
   "metadata": {},
   "outputs": [
    {
     "data": {
      "text/html": [
       "<div>\n",
       "<style scoped>\n",
       "    .dataframe tbody tr th:only-of-type {\n",
       "        vertical-align: middle;\n",
       "    }\n",
       "\n",
       "    .dataframe tbody tr th {\n",
       "        vertical-align: top;\n",
       "    }\n",
       "\n",
       "    .dataframe thead th {\n",
       "        text-align: right;\n",
       "    }\n",
       "</style>\n",
       "<table border=\"1\" class=\"dataframe\">\n",
       "  <thead>\n",
       "    <tr style=\"text-align: right;\">\n",
       "      <th></th>\n",
       "      <th>Tickers</th>\n",
       "      <th>Date</th>\n",
       "      <th>Time</th>\n",
       "      <th>News</th>\n",
       "      <th>Impact</th>\n",
       "    </tr>\n",
       "  </thead>\n",
       "  <tbody>\n",
       "    <tr>\n",
       "      <th>0</th>\n",
       "      <td>AMZN</td>\n",
       "      <td>Aug-12-23</td>\n",
       "      <td>12:05PM</td>\n",
       "      <td>Lina Khan: The most feared person in Big Tech ...</td>\n",
       "      <td>1</td>\n",
       "    </tr>\n",
       "    <tr>\n",
       "      <th>1</th>\n",
       "      <td>AMZN</td>\n",
       "      <td>Aug-12-23</td>\n",
       "      <td>12:04PM</td>\n",
       "      <td>Lina Khan: The most feared person in Silicon V...</td>\n",
       "      <td>4</td>\n",
       "    </tr>\n",
       "    <tr>\n",
       "      <th>2</th>\n",
       "      <td>AMZN</td>\n",
       "      <td>Aug-12-23</td>\n",
       "      <td>11:59AM</td>\n",
       "      <td>The most feared person in tech isnt in Silicon...</td>\n",
       "      <td>1</td>\n",
       "    </tr>\n",
       "    <tr>\n",
       "      <th>3</th>\n",
       "      <td>AMZN</td>\n",
       "      <td>Aug-12-23</td>\n",
       "      <td>10:15AM</td>\n",
       "      <td>Is Amazon a Buy After Its Blowout Quarter?</td>\n",
       "      <td>1</td>\n",
       "    </tr>\n",
       "    <tr>\n",
       "      <th>4</th>\n",
       "      <td>AMZN</td>\n",
       "      <td>Aug-12-23</td>\n",
       "      <td>08:00AM</td>\n",
       "      <td>3 Warren Buffett Stocks to Buy Hand Over Fist ...</td>\n",
       "      <td>5</td>\n",
       "    </tr>\n",
       "  </tbody>\n",
       "</table>\n",
       "</div>"
      ],
      "text/plain": [
       "  Tickers       Date     Time  \\\n",
       "0    AMZN  Aug-12-23  12:05PM   \n",
       "1    AMZN  Aug-12-23  12:04PM   \n",
       "2    AMZN  Aug-12-23  11:59AM   \n",
       "3    AMZN  Aug-12-23  10:15AM   \n",
       "4    AMZN  Aug-12-23  08:00AM   \n",
       "\n",
       "                                                News  Impact  \n",
       "0  Lina Khan: The most feared person in Big Tech ...       1  \n",
       "1  Lina Khan: The most feared person in Silicon V...       4  \n",
       "2  The most feared person in tech isnt in Silicon...       1  \n",
       "3         Is Amazon a Buy After Its Blowout Quarter?       1  \n",
       "4  3 Warren Buffett Stocks to Buy Hand Over Fist ...       5  "
      ]
     },
     "execution_count": 63,
     "metadata": {},
     "output_type": "execute_result"
    }
   ],
   "source": [
    "df.head()"
   ]
  },
  {
   "cell_type": "code",
   "execution_count": null,
   "id": "173ca7b1",
   "metadata": {},
   "outputs": [],
   "source": []
  },
  {
   "cell_type": "code",
   "execution_count": null,
   "id": "8a246127",
   "metadata": {},
   "outputs": [],
   "source": []
  },
  {
   "cell_type": "code",
   "execution_count": 82,
   "id": "c9771d2f",
   "metadata": {},
   "outputs": [
    {
     "data": {
      "text/plain": [
       "2.8333333333333335"
      ]
     },
     "execution_count": 82,
     "metadata": {},
     "output_type": "execute_result"
    }
   ],
   "source": [
    "filter1 = df['Tickers']=='AMZN'\n",
    "filter2 = df['Date']=='Aug-12-23'\n",
    "df['Impact'].where(filter1 & filter2).mean()"
   ]
  },
  {
   "cell_type": "code",
   "execution_count": 83,
   "id": "9db89219",
   "metadata": {},
   "outputs": [
    {
     "data": {
      "text/html": [
       "<div>\n",
       "<style scoped>\n",
       "    .dataframe tbody tr th:only-of-type {\n",
       "        vertical-align: middle;\n",
       "    }\n",
       "\n",
       "    .dataframe tbody tr th {\n",
       "        vertical-align: top;\n",
       "    }\n",
       "\n",
       "    .dataframe thead th {\n",
       "        text-align: right;\n",
       "    }\n",
       "</style>\n",
       "<table border=\"1\" class=\"dataframe\">\n",
       "  <thead>\n",
       "    <tr style=\"text-align: right;\">\n",
       "      <th></th>\n",
       "      <th>Tickers</th>\n",
       "      <th>Date</th>\n",
       "      <th>Time</th>\n",
       "      <th>News</th>\n",
       "      <th>Impact</th>\n",
       "    </tr>\n",
       "  </thead>\n",
       "  <tbody>\n",
       "    <tr>\n",
       "      <th>0</th>\n",
       "      <td>AMZN</td>\n",
       "      <td>Aug-12-23</td>\n",
       "      <td>12:05PM</td>\n",
       "      <td>Lina Khan: The most feared person in Big Tech ...</td>\n",
       "      <td>1.0</td>\n",
       "    </tr>\n",
       "    <tr>\n",
       "      <th>1</th>\n",
       "      <td>AMZN</td>\n",
       "      <td>Aug-12-23</td>\n",
       "      <td>12:04PM</td>\n",
       "      <td>Lina Khan: The most feared person in Silicon V...</td>\n",
       "      <td>4.0</td>\n",
       "    </tr>\n",
       "    <tr>\n",
       "      <th>2</th>\n",
       "      <td>AMZN</td>\n",
       "      <td>Aug-12-23</td>\n",
       "      <td>11:59AM</td>\n",
       "      <td>The most feared person in tech isnt in Silicon...</td>\n",
       "      <td>1.0</td>\n",
       "    </tr>\n",
       "    <tr>\n",
       "      <th>3</th>\n",
       "      <td>AMZN</td>\n",
       "      <td>Aug-12-23</td>\n",
       "      <td>10:15AM</td>\n",
       "      <td>Is Amazon a Buy After Its Blowout Quarter?</td>\n",
       "      <td>1.0</td>\n",
       "    </tr>\n",
       "    <tr>\n",
       "      <th>4</th>\n",
       "      <td>AMZN</td>\n",
       "      <td>Aug-12-23</td>\n",
       "      <td>08:00AM</td>\n",
       "      <td>3 Warren Buffett Stocks to Buy Hand Over Fist ...</td>\n",
       "      <td>5.0</td>\n",
       "    </tr>\n",
       "    <tr>\n",
       "      <th>...</th>\n",
       "      <td>...</td>\n",
       "      <td>...</td>\n",
       "      <td>...</td>\n",
       "      <td>...</td>\n",
       "      <td>...</td>\n",
       "    </tr>\n",
       "    <tr>\n",
       "      <th>200</th>\n",
       "      <td>NaN</td>\n",
       "      <td>NaN</td>\n",
       "      <td>NaN</td>\n",
       "      <td>NaN</td>\n",
       "      <td>NaN</td>\n",
       "    </tr>\n",
       "    <tr>\n",
       "      <th>201</th>\n",
       "      <td>NaN</td>\n",
       "      <td>NaN</td>\n",
       "      <td>NaN</td>\n",
       "      <td>NaN</td>\n",
       "      <td>NaN</td>\n",
       "    </tr>\n",
       "    <tr>\n",
       "      <th>202</th>\n",
       "      <td>NaN</td>\n",
       "      <td>NaN</td>\n",
       "      <td>NaN</td>\n",
       "      <td>NaN</td>\n",
       "      <td>NaN</td>\n",
       "    </tr>\n",
       "    <tr>\n",
       "      <th>203</th>\n",
       "      <td>NaN</td>\n",
       "      <td>NaN</td>\n",
       "      <td>NaN</td>\n",
       "      <td>NaN</td>\n",
       "      <td>NaN</td>\n",
       "    </tr>\n",
       "    <tr>\n",
       "      <th>204</th>\n",
       "      <td>NaN</td>\n",
       "      <td>NaN</td>\n",
       "      <td>NaN</td>\n",
       "      <td>NaN</td>\n",
       "      <td>NaN</td>\n",
       "    </tr>\n",
       "  </tbody>\n",
       "</table>\n",
       "<p>205 rows × 5 columns</p>\n",
       "</div>"
      ],
      "text/plain": [
       "    Tickers       Date     Time  \\\n",
       "0      AMZN  Aug-12-23  12:05PM   \n",
       "1      AMZN  Aug-12-23  12:04PM   \n",
       "2      AMZN  Aug-12-23  11:59AM   \n",
       "3      AMZN  Aug-12-23  10:15AM   \n",
       "4      AMZN  Aug-12-23  08:00AM   \n",
       "..      ...        ...      ...   \n",
       "200     NaN        NaN      NaN   \n",
       "201     NaN        NaN      NaN   \n",
       "202     NaN        NaN      NaN   \n",
       "203     NaN        NaN      NaN   \n",
       "204     NaN        NaN      NaN   \n",
       "\n",
       "                                                  News  Impact  \n",
       "0    Lina Khan: The most feared person in Big Tech ...     1.0  \n",
       "1    Lina Khan: The most feared person in Silicon V...     4.0  \n",
       "2    The most feared person in tech isnt in Silicon...     1.0  \n",
       "3           Is Amazon a Buy After Its Blowout Quarter?     1.0  \n",
       "4    3 Warren Buffett Stocks to Buy Hand Over Fist ...     5.0  \n",
       "..                                                 ...     ...  \n",
       "200                                                NaN     NaN  \n",
       "201                                                NaN     NaN  \n",
       "202                                                NaN     NaN  \n",
       "203                                                NaN     NaN  \n",
       "204                                                NaN     NaN  \n",
       "\n",
       "[205 rows x 5 columns]"
      ]
     },
     "execution_count": 83,
     "metadata": {},
     "output_type": "execute_result"
    }
   ],
   "source": [
    "df.where(filter1 & filter2)"
   ]
  },
  {
   "cell_type": "code",
   "execution_count": null,
   "id": "95434cbf",
   "metadata": {},
   "outputs": [],
   "source": []
  },
  {
   "cell_type": "code",
   "execution_count": null,
   "id": "afad26d8",
   "metadata": {},
   "outputs": [],
   "source": []
  },
  {
   "cell_type": "code",
   "execution_count": null,
   "id": "846a8853",
   "metadata": {},
   "outputs": [],
   "source": []
  },
  {
   "cell_type": "code",
   "execution_count": null,
   "id": "0e3d775b",
   "metadata": {},
   "outputs": [],
   "source": []
  },
  {
   "cell_type": "code",
   "execution_count": null,
   "id": "1eb05437",
   "metadata": {},
   "outputs": [],
   "source": []
  }
 ],
 "metadata": {
  "kernelspec": {
   "display_name": "Python 3 (ipykernel)",
   "language": "python",
   "name": "python3"
  },
  "language_info": {
   "codemirror_mode": {
    "name": "ipython",
    "version": 3
   },
   "file_extension": ".py",
   "mimetype": "text/x-python",
   "name": "python",
   "nbconvert_exporter": "python",
   "pygments_lexer": "ipython3",
   "version": "3.10.0"
  }
 },
 "nbformat": 4,
 "nbformat_minor": 5
}
